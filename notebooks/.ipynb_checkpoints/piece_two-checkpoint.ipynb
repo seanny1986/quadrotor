{
 "cells": [
  {
   "cell_type": "markdown",
   "metadata": {},
   "source": [
    "# Complex Waypoint Navigation Using Learned Termination Conditions"
   ]
  },
  {
   "cell_type": "markdown",
   "metadata": {},
   "source": [
    "### Introduction\n",
    "\n",
    "The purpose of this notebook is to present on-going research into the use of hierarchical methods for flying complex trajectories that are defined by waypoints. This problem has application in tasks such as quadrotor racing, aerobatics, and navigation of complex 3D environments.\n",
    "\n",
    "### Current State-Of-The-Art\n",
    "\n",
    "There are existing flight controllers that are able to perform tasks such as quadrotor aerobatics. These typically work by first finding a trajectory using a known model, and then using trajectory-following flight controllers to execute that path. This has several notable limitations'\n",
    "\n",
    "1. It can be computationally expensive, and cannot be used in real-time;\n",
    "2. It relies on the existence of a known model;\n",
    "3. \n",
    "\n",
    "Examples include [],[],[],[],[],[]\n",
    "\n",
    "### Existing RL Techniques\n",
    "\n",
    "There are existing methods that have been used for flying complex trajectories; for example, [] uses the idea of \n",
    "\n",
    "However, there are limitations with these methods:\n",
    "\n",
    "1. Constructing trajectories using waypoints is still the dominant means of navigation for quadrotor aircraft;\n",
    "2. We may encounter scenarios in which the waypoints are known, but the trajectory isn't. Furthermore, solving for such a trajectory in real-time while the aircraft is flying may not be feasible;\n",
    "3. We would like to produce general techniques that can recycle knowledge. In principle, if an agent can travel from points A to B, then they should also know how to navigate from points B to C. Flying from A to B to C in a smooth fashion uses the same basic skillset of waypoint navigation, but the location of the future waypoint C modifies how waypoint B should be reached. No existing RL method that we are aware of makes use of this.\n",
    "\n",
    "### Proposed Methodology\n",
    "\n",
    "Our proposal is to learn a relationship between subsequent waypoints such that we can construct smooth trajectories that are parameterized by waypoints. That is: a human would see the following set of waypoints:\n",
    "\n",
    "And immediately know the rough form of a smooth path between them. We would like a flight controller that is able to do the same."
   ]
  },
  {
   "cell_type": "code",
   "execution_count": null,
   "metadata": {},
   "outputs": [],
   "source": []
  }
 ],
 "metadata": {
  "kernelspec": {
   "display_name": "Python [conda env:python3.5]",
   "language": "python",
   "name": "conda-env-python3.5-py"
  },
  "language_info": {
   "codemirror_mode": {
    "name": "ipython",
    "version": 3
   },
   "file_extension": ".py",
   "mimetype": "text/x-python",
   "name": "python",
   "nbconvert_exporter": "python",
   "pygments_lexer": "ipython3",
   "version": "3.5.4"
  }
 },
 "nbformat": 4,
 "nbformat_minor": 2
}
